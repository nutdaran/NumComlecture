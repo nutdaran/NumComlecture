{
 "cells": [
  {
   "cell_type": "code",
   "execution_count": 2,
   "metadata": {},
   "outputs": [],
   "source": [
    "%matplotlib inline\n",
    "import math\n",
    "import numpy as np\n",
    "from matplotlib import pyplot as plt"
   ]
  },
  {
   "cell_type": "markdown",
   "metadata": {},
   "source": [
    "# Homework"
   ]
  },
  {
   "cell_type": "markdown",
   "metadata": {},
   "source": [
    "## Problem 1\n",
    "\n",
    "Give me the solution to $x = e^{-x}$ that is $10^{-6}$ using bisection method.\n",
    "\n",
    "Pick the initial bound from the following and explain why you can't pick the other one.\n",
    "Bound A: (-1,0), Bound B (0,1)"
   ]
  },
  {
   "cell_type": "code",
   "execution_count": 3,
   "metadata": {},
   "outputs": [],
   "source": [
    "from dataclasses import dataclass\n",
    "\n",
    "@dataclass\n",
    "class BisectionResult:\n",
    "  midpoint: float\n",
    "  uncertainty: float"
   ]
  },
  {
   "cell_type": "code",
   "execution_count": 196,
   "metadata": {},
   "outputs": [
    {
     "name": "stdout",
     "output_type": "stream",
     "text": [
      "-0.6321205588285577\n",
      "0.567143440246582 +- 4.76837158203125e-07\n"
     ]
    }
   ],
   "source": [
    "# print(f(-1)*f(0))\n",
    "# print(f(0)*f(1))\n",
    "#we pick bound B, because f(0)*f(1)<0 so we can find the intersect point from this initial bound\n",
    "\n",
    "def f(x):\n",
    "    return x - np.exp(-x)\n",
    "\n",
    "def bisect(f,l,r,n)->BisectionResult:\n",
    "    mid = (l+r)/2\n",
    "    uncertainty = (r-l)/2\n",
    "    while uncertainty > n:\n",
    "        mid = (l+r)/2\n",
    "        uncertainty = (r-l)/2\n",
    "        if f(mid) * f(l) > 0:\n",
    "            l = mid\n",
    "        else:\n",
    "            r = mid\n",
    "    return BisectionResult(midpoint=mid,uncertainty=uncertainty/2)\n",
    "#     return BisectionResult(midpoint=mid,uncertainty=uncertainty/2)\n",
    "\n",
    "sol=bisect(f,0,1,1e-6)\n",
    "print(f\"{sol.midpoint} +- {sol.uncertainty}\")"
   ]
  },
  {
   "cell_type": "markdown",
   "metadata": {},
   "source": [
    "## Problem 2\n",
    "Find all value of $x \\in [0,1]$ such that $f(x)=0$ for\n",
    "\n",
    "$f(x) = -0.000216747 + 0.0072868 x - 0.0977383 x^2 + 0.664685 x^3 - \n",
    " 2.40773 x^4 + 4.46766 x^5 - 3.7091 x^6 + x^7$\n",
    " \n",
    "Make sure your answers are at most $10^{-6}$ away from the real solution."
   ]
  },
  {
   "cell_type": "code",
   "execution_count": 51,
   "metadata": {},
   "outputs": [
    {
     "name": "stdout",
     "output_type": "stream",
     "text": [
      "[[0.1221, 0.1222], [0.22, 0.22010000000000002], [0.3332, 0.33330000000000004], [0.7854, 0.7855000000000001]]\n"
     ]
    },
    {
     "data": {
      "image/png": "[encoded data removed]",
      "text/plain": [
       "<Figure size 432x288 with 1 Axes>"
      ]
     },
     "metadata": {
      "needs_background": "light"
     },
     "output_type": "display_data"
    }
   ],
   "source": [
    "def f(x):\n",
    "    return -0.000216747 + 0.0072868*x - 0.0977383*x**2 + 0.664685*x**3 - \\\n",
    "            2.40773*x**4 + 4.46766*x**5 - 3.7091*x**6 + x**7\n",
    "\n",
    "def findAllBounds(f,l,r,reso):\n",
    "    x = np.arange(l,r,reso)\n",
    "    y = f(x)\n",
    "    b = []\n",
    "    for xl,yl,xr,yr in zip(x[:-1],y[:-1],x[1:],y[1:]): \n",
    "        #x[:-1] start from leftmost to 2nd to the rightmost -> we reserve the last one for upperbound\n",
    "        #x[1:] start from the 2nd to the leftmost to the rightmost -> we reserve the 1st one for lowerbound\n",
    "        if yl*yr <=0: \n",
    "            #check if the bounds are closer/toward to f(x)=0\n",
    "            b.append([xl,xr]) #add all bound\n",
    "    return b\n",
    "\n",
    "bounds = findAllBounds(f,0,1,1e-4)\n",
    "print(bounds)\n",
    "\n",
    "xs = np.linspace(0,1,100)\n",
    "plt.plot(xs,f(xs))\n",
    "plt.grid()"
   ]
  },
  {
   "cell_type": "code",
   "execution_count": 48,
   "metadata": {},
   "outputs": [
    {
     "name": "stdout",
     "output_type": "stream",
     "text": [
      "[0.12216640625, 0.22002890625000002, 0.33329921875, 0.7854085937500002]\n"
     ]
    },
    {
     "data": {
      "image/png": "[encoded data removed]",
      "text/plain": [
       "<Figure size 432x288 with 1 Axes>"
      ]
     },
     "metadata": {
      "needs_background": "light"
     },
     "output_type": "display_data"
    }
   ],
   "source": [
    "def findAllValue(f,bound:list) -> list:\n",
    "    res = []\n",
    "    for L,R in bound:\n",
    "        res.append(bisect(f,L,R,1e-6).midpoint)\n",
    "    return res\n",
    "\n",
    "sol = findAllValue(f,bounds)\n",
    "print(sol)\n",
    "\n",
    "xs = np.linspace(0,1,100)\n",
    "plt.plot(xs,f(xs))\n",
    "plt.axhline(0)\n",
    "for i in sol:\n",
    "    plt.axvline(i)"
   ]
  },
  {
   "cell_type": "markdown",
   "metadata": {},
   "source": [
    "2.1) Find all the local minima and maxima of the above function. How do you figure out whether it is a local maximum or local minimum"
   ]
  },
  {
   "cell_type": "markdown",
   "metadata": {},
   "source": [
    "$f(x) = -0.000216747 + 0.0072868 x - 0.0977383 x^2 + 0.664685 x^3 - \n",
    " 2.40773 x^4 + 4.46766 x^5 - 3.7091 x^6 + x^7$<br>\n",
    " $f'(x) = 0.0072868 - 2*0.0977383 x + 3*0.664685 x^2 - \n",
    " 4*2.40773 x^3 + 5*4.46766 x^4 - 6*3.7091 x^5 + 7x^6$"
   ]
  },
  {
   "cell_type": "code",
   "execution_count": 7,
   "metadata": {},
   "outputs": [
    {
     "data": {
      "text/plain": [
       "[[0.19, 0.2], [0.29, 0.3], [0.68, 0.6900000000000001]]"
      ]
     },
     "execution_count": 7,
     "metadata": {},
     "output_type": "execute_result"
    }
   ],
   "source": [
    "def fp(x): #f'(above function)\n",
    "    return 0.0072868 - 2*0.0977383*x ++ 3*0.664685*x**2 - 4*2.40773*x**3 + 5*4.46766*x**4 - 6*3.7091*x**5 +7*x**6\n",
    "\n",
    "def findBounds(fp,l,r,n)->list:\n",
    "    x = np.arange(l,r,n)\n",
    "    y = fp(x)\n",
    "    b = []\n",
    "    for xl,yl,xr,yr in zip(x[:-1],y[:-1],x[1:],y[1:]): \n",
    "        if yl*yr<=0:\n",
    "            b.append([xl,xr])\n",
    "    return b\n",
    "\n",
    "bound = findBounds(fp,0,1,1e-2)\n",
    "bound"
   ]
  },
  {
   "cell_type": "code",
   "execution_count": 4,
   "metadata": {},
   "outputs": [
    {
     "ename": "NameError",
     "evalue": "name 'bound' is not defined",
     "output_type": "error",
     "traceback": [
      "\u001b[0;31m---------------------------------------------------------------------------\u001b[0m",
      "\u001b[0;31mNameError\u001b[0m                                 Traceback (most recent call last)",
      "\u001b[0;32m/var/folders/jw/dvcl0gln5c747h52sxl00y_h0000gn/T/ipykernel_12131/3159168684.py\u001b[0m in \u001b[0;36m<module>\u001b[0;34m\u001b[0m\n\u001b[1;32m      5\u001b[0m     \u001b[0;32mreturn\u001b[0m \u001b[0mres\u001b[0m\u001b[0;34m\u001b[0m\u001b[0;34m\u001b[0m\u001b[0m\n\u001b[1;32m      6\u001b[0m \u001b[0;34m\u001b[0m\u001b[0m\n\u001b[0;32m----> 7\u001b[0;31m \u001b[0msol\u001b[0m \u001b[0;34m=\u001b[0m \u001b[0mfindMa\u001b[0m\u001b[0;34m(\u001b[0m\u001b[0mfp\u001b[0m\u001b[0;34m,\u001b[0m\u001b[0mbound\u001b[0m\u001b[0;34m)\u001b[0m\u001b[0;34m\u001b[0m\u001b[0;34m\u001b[0m\u001b[0m\n\u001b[0m\u001b[1;32m      8\u001b[0m \u001b[0mprint\u001b[0m\u001b[0;34m(\u001b[0m\u001b[0msol\u001b[0m\u001b[0;34m)\u001b[0m\u001b[0;34m\u001b[0m\u001b[0;34m\u001b[0m\u001b[0m\n\u001b[1;32m      9\u001b[0m \u001b[0;34m\u001b[0m\u001b[0m\n",
      "\u001b[0;31mNameError\u001b[0m: name 'bound' is not defined"
     ]
    }
   ],
   "source": [
    "def findMa(fp,b:list) -> list:\n",
    "    res = []\n",
    "    for l,r in b:\n",
    "        res.append(bisect(fp,l,r,1e-6).midpoint)\n",
    "    return res\n",
    "\n",
    "sol = findMa(fp,bound)\n",
    "print(sol)\n",
    "\n",
    "xs = np.linspace(0,1,100)\n",
    "plt.plot(xs,f(xs),label='f(x)')\n",
    "plt.plot(xs,fp(xs),label='f\\'(x)')\n",
    "plt.axhline(0,color='orange')\n",
    "for i in sol:\n",
    "    plt.axvline(i,color='orange')\n",
    "plt.legend()"
   ]
  },
  {
   "cell_type": "markdown",
   "metadata": {},
   "source": [
    "2.2) What is the `global maximum` and `global minimum` of the function above within the range $x\\in[0,1]$"
   ]
  },
  {
   "cell_type": "code",
   "execution_count": 112,
   "metadata": {},
   "outputs": [
    {
     "name": "stdout",
     "output_type": "stream",
     "text": [
      "[1.3690761967964784e-06, -1.2147136597587548e-05, 0.0038258083219715883, -0.000216747, -0.07515324699999937]\n"
     ]
    },
    {
     "data": {
      "text/plain": [
       "<matplotlib.legend.Legend at 0x7f99b9e22310>"
      ]
     },
     "execution_count": 112,
     "metadata": {},
     "output_type": "execute_result"
    },
    {
     "data": {
      "image/png": "[encoded data removed]",
      "text/plain": [
       "<Figure size 432x288 with 1 Axes>"
      ]
     },
     "metadata": {
      "needs_background": "light"
     },
     "output_type": "display_data"
    }
   ],
   "source": [
    "sol+=[0,1]\n",
    "coor = [f(x) for x in sol]\n",
    "print(coor)\n",
    "global_min = np.argmin(coor)\n",
    "global_max = np.argmax(coor)\n",
    "\n",
    "xs = np.linspace(0,1,100)\n",
    "plt.plot(xs,f(xs),label='f(x)')\n",
    "plt.axvline(sol[global_min],label='global min',color='red')\n",
    "plt.axvline(sol[global_max],label='global max',color='green')\n",
    "plt.legend()"
   ]
  },
  {
   "cell_type": "markdown",
   "metadata": {},
   "source": [
    "## Problem 3\n",
    "In quantum physics, when finding a bound state for a finite potential well one would end up with the following equation(Yes E is negative):\n",
    "\n",
    "$$\n",
    "\\sqrt{\\frac{-E}{E+V_0}} = \\tan \\sqrt{2m \\frac{E+V_0}{\\hbar^2} a}\n",
    "$$\n",
    "\n",
    "The goal is to find all Energy($E$) that satisfy this equation.\n",
    "For simplicity, let\n",
    "- $V_0 = 1$\n",
    "- $m = 1$\n",
    "- $a = 1$\n",
    "- $\\hbar = 1$(Yes this is called natural unit)\n",
    "\n",
    "$$\n",
    "    \\sqrt{\\frac{-E}{E+1}} = \\tan \\sqrt{2(E+1)}\n",
    "$$\n",
    "\n",
    "Find the value for $E\\in (-1.0, 0)$ which satisfy the equation above). Make sure you accuracy is $<\\pm10^{-4}$\n"
   ]
  },
  {
   "cell_type": "code",
   "execution_count": 5,
   "metadata": {},
   "outputs": [
    {
     "data": {
      "text/plain": [
       "[<matplotlib.lines.Line2D at 0x7f83b5c7bc10>]"
      ]
     },
     "execution_count": 5,
     "metadata": {},
     "output_type": "execute_result"
    },
    {
     "data": {
      "image/png": "[encoded data removed]",
      "text/plain": [
       "<Figure size 432x288 with 1 Axes>"
      ]
     },
     "metadata": {
      "needs_background": "light"
     },
     "output_type": "display_data"
    }
   ],
   "source": [
    "def f(x):\n",
    "    return math.sqrt(-x/(x+1))\n",
    "def g(x):\n",
    "    return math.tan(math.sqrt(2*(x + 1)))\n",
    "\n",
    "xs = np.linspace(-0.999,-0.1, 100)\n",
    "fx = [f(x) for x in xs]\n",
    "gx = [g(x) for x in xs]\n",
    "plt.plot(xs,fx)\n",
    "plt.plot(xs,gx)"
   ]
  },
  {
   "cell_type": "code",
   "execution_count": 6,
   "metadata": {},
   "outputs": [
    {
     "name": "stdout",
     "output_type": "stream",
     "text": [
      "-0.6039486694335938\n"
     ]
    },
    {
     "data": {
      "text/plain": [
       "<matplotlib.lines.Line2D at 0x7f83b5f2ffd0>"
      ]
     },
     "execution_count": 6,
     "metadata": {},
     "output_type": "execute_result"
    },
    {
     "data": {
      "image/png": "[encoded data removed]",
      "text/plain": [
       "<Figure size 432x288 with 1 Axes>"
      ]
     },
     "metadata": {
      "needs_background": "light"
     },
     "output_type": "display_data"
    }
   ],
   "source": [
    "def FequalsG(x):\n",
    "    return f(x)-g(x)\n",
    "\n",
    "sol = bisect(FequalsG,-0.999,0,1e-4)\n",
    "print(sol.midpoint)\n",
    "\n",
    "xs = np.linspace(-0.999,-0.1, 100)\n",
    "fx = [f(x) for x in xs]\n",
    "gx = [g(x) for x in xs]\n",
    "plt.plot(xs,fx)\n",
    "plt.plot(xs,gx)\n",
    "plt.axvline(sol.midpoint)"
   ]
  },
  {
   "cell_type": "markdown",
   "metadata": {},
   "source": [
    "## Problem 4\n",
    "Ply quit programming and decide to be a Apple(fruit) shop owner. He bought 1000 apples everyday and try to sell it. The probability $k$ customer want Ply's apple(one each) is given by Poisson distribution:\n",
    "\n",
    "$$\n",
    "    P(k; \\lambda) = \\frac{\\lambda^k \\exp(-\\lambda)}{k!}\n",
    "$$\n",
    "\n",
    "Where $\\lambda$ is an parameter that represent the mean of number of people that want Ply's apple each day.\n",
    "\n",
    "After selling apples for 2000 days Ply found that his 1000 apples a day are sold out 600 days out of 2000 days.\n",
    "\n",
    "The goal for this problem is to figure out how he should change the number of apples he bought in a day.\n",
    "\n",
    "- In case you are curious https://en.wikipedia.org/wiki/Poisson_distribution. The true distribution of this selling apple process should be binomial distribution but with large enough customer and low enough probability of an individual buying an apple this is an excellent approximatoin."
   ]
  },
  {
   "cell_type": "markdown",
   "metadata": {
    "collapsed": true
   },
   "source": [
    "4.1) You may find that if you try to code poisson distribution directly. It will not work with large number.\n",
    "$$\n",
    "    P(k; \\lambda) = \\frac{\\lambda^k \\exp(-\\lambda)}{k!}\n",
    "$$\n",
    "\n",
    "Explain briefly why python complains"
   ]
  },
  {
   "cell_type": "code",
   "execution_count": 8,
   "metadata": {},
   "outputs": [],
   "source": [
    "import math\n",
    "def bad_poisson(lmd, k):\n",
    "    return pow(lmd,k)*math.exp(-lmd)/math.factorial(k)\n",
    "# bad_poisson(1000,1000) # uncomment to see it breaks"
   ]
  },
  {
   "cell_type": "markdown",
   "metadata": {},
   "source": [
    "Ans: because the result of $\\lambda^k$ and $k!$ are too large"
   ]
  },
  {
   "cell_type": "markdown",
   "metadata": {},
   "source": [
    "4.2) A very useful trick to avoid this problem is to take log and exponentiate. That is\n",
    "\n",
    "$$\n",
    "    P(k; \\lambda) = \\exp\\left( \\ln \\left[ \\frac{\\lambda^k \\exp(-\\lambda)}{k!} \\right] \\right)\n",
    "$$\n",
    "\n",
    "First, show that\n",
    "$$\n",
    "    \\ln(P(k; \\lambda)) = (\\ldots \\ln(\\ldots)-\\ldots)-\\ln(k!)\n",
    "$$\n",
    "\n"
   ]
  },
  {
   "cell_type": "markdown",
   "metadata": {
    "collapsed": true
   },
   "source": [
    "Ans: $\\ln(P(k; \\lambda)) = (k \\ln(\\lambda)-\\lambda)-\\ln(k!)$"
   ]
  },
  {
   "cell_type": "markdown",
   "metadata": {},
   "source": [
    "4.3) $\\ln(k!)$ shows up everywhere in math. So most math library have `lgamma` function to compute this very fast.\n",
    "For example,\n",
    "\n",
    "`math.lgamma(5) == math.log(math.factorial(4))`\n",
    "\n",
    "Your job for this problem is to implement $P(k; \\lambda)$ using log-exp trick.\n",
    "\n",
    "If you do it right, $P(k=1000; \\mu=1000) \\approx 0.0126146$"
   ]
  },
  {
   "cell_type": "code",
   "execution_count": 11,
   "metadata": {},
   "outputs": [
    {
     "name": "stdout",
     "output_type": "stream",
     "text": [
      "3.178053830347945\n",
      "3.1780538303479458\n"
     ]
    }
   ],
   "source": [
    "print(math.lgamma(5))\n",
    "print(math.log(math.factorial(4)))"
   ]
  },
  {
   "cell_type": "code",
   "execution_count": 12,
   "metadata": {},
   "outputs": [
    {
     "data": {
      "text/plain": [
       "0.012614611348719664"
      ]
     },
     "execution_count": 12,
     "metadata": {},
     "output_type": "execute_result"
    }
   ],
   "source": [
    "def P(k,lmd):\n",
    "    res = k*math.log(lmd) - lmd - math.lgamma(k+1)\n",
    "    return math.exp(res)\n",
    "P(1000,1000)"
   ]
  },
  {
   "cell_type": "markdown",
   "metadata": {},
   "source": [
    "4.4) Now here is the fun part. Suppose that $\\lambda = 987.6$(this is not true). Find the probability that Ply will sell all his 1000 apples. (Remember if 2000 people want Ply's apple, he his apple will also be sold out). \n",
    "\n",
    "And No, summing up to infinity is not practical."
   ]
  },
  {
   "cell_type": "code",
   "execution_count": 18,
   "metadata": {},
   "outputs": [
    {
     "data": {
      "text/plain": [
       "0.3507846581670552"
      ]
     },
     "execution_count": 18,
     "metadata": {},
     "output_type": "execute_result"
    }
   ],
   "source": [
    "def SoldOut(k,lmd):\n",
    "    return 1-sum(P(i,lmd) for i in range(k))\n",
    "SoldOut(1000,987.6)"
   ]
  },
  {
   "cell_type": "markdown",
   "metadata": {},
   "source": [
    "4.5) Recall the information that\n",
    "\n",
    "After selling apples for 2000 days Ply found that his 1000 apples a day are sold out 600 days out of 2000 days.\n",
    "\n",
    "Find the value for $\\lambda$ to a decent accuracy($<\\pm 0.1$)"
   ]
  },
  {
   "cell_type": "code",
   "execution_count": 36,
   "metadata": {},
   "outputs": [
    {
     "name": "stdout",
     "output_type": "stream",
     "text": [
      "983.1809997558594\n"
     ]
    },
    {
     "data": {
      "text/plain": [
       "<matplotlib.lines.Line2D at 0x7f83b6220ee0>"
      ]
     },
     "execution_count": 36,
     "metadata": {},
     "output_type": "execute_result"
    },
    {
     "data": {
      "image/png": "[encoded data removed]",
      "text/plain": [
       "<Figure size 432x288 with 1 Axes>"
      ]
     },
     "metadata": {
      "needs_background": "light"
     },
     "output_type": "display_data"
    }
   ],
   "source": [
    "def POfSold(lmd):\n",
    "    return SoldOut(1000,lmd)-600/2000\n",
    "\n",
    "Lmd = bisect(POfSold,600,2000,1e-2)\n",
    "print(Lmd.midpoint)\n",
    "\n",
    "xs = np.linspace(600,2000, 100)\n",
    "fx=[POfSold(i) for i in xs]\n",
    "plt.plot(xs,fx)\n",
    "plt.axvline(Lmd.midpoint)"
   ]
  },
  {
   "cell_type": "markdown",
   "metadata": {},
   "source": [
    "4.6) Using $\\lambda$ you found in 4.5).\n",
    "\n",
    "Ply bounght apple for 20 Baht each and he sell it for 50 Baht each. Which means that for each apple he sells he make a profit of 30 baht. But, at the end of each day Ply has to trash all unsold Apples(taking a loss of 20 Baht each).\n",
    "\n",
    "If Ply bought 1000 apples a day, what would be his expected profit(remember expected value from discrete math/stat/quantum?)."
   ]
  },
  {
   "cell_type": "markdown",
   "metadata": {},
   "source": [
    "$E(x)=\\sum^{k-1}_{n=1} P_{sellingEachApple}*50*n + P_{soldOut}*50*k - 20*k$"
   ]
  },
  {
   "cell_type": "code",
   "execution_count": 41,
   "metadata": {},
   "outputs": [
    {
     "data": {
      "text/plain": [
       "28864.695494891195"
      ]
     },
     "execution_count": 41,
     "metadata": {},
     "output_type": "execute_result"
    }
   ],
   "source": [
    "def ExpectedVal(k):\n",
    "    return sum((50*i*P(i,Lmd.midpoint) for i in range(k))) + (SoldOut(k,Lmd.midpoint)*50*k) - 20*k\n",
    "\n",
    "ExpectedVal(1000)"
   ]
  },
  {
   "cell_type": "markdown",
   "metadata": {},
   "source": [
    "4.7) Using $\\lambda$ you found in 4.5) Find the number of apple Ply should buy in a day to maximize his expected profit."
   ]
  },
  {
   "cell_type": "code",
   "execution_count": 56,
   "metadata": {},
   "outputs": [
    {
     "name": "stdout",
     "output_type": "stream",
     "text": [
      "991\n"
     ]
    },
    {
     "data": {
      "text/plain": [
       "[<matplotlib.lines.Line2D at 0x7f83b690c550>]"
      ]
     },
     "execution_count": 56,
     "metadata": {},
     "output_type": "execute_result"
    },
    {
     "data": {
      "image/png": "[encoded data removed]",
      "text/plain": [
       "<Figure size 432x288 with 1 Axes>"
      ]
     },
     "metadata": {
      "needs_background": "light"
     },
     "output_type": "display_data"
    }
   ],
   "source": [
    "def ShouldBuy(k):\n",
    "    check = max(ExpectedVal(i) for i in range(k))\n",
    "    for i in range(k):\n",
    "        if ExpectedVal(i) == check:\n",
    "            return i\n",
    "print(ShouldBuy(2000))\n",
    "\n",
    "xs = list(range(2000))\n",
    "ys = [ExpectedVal(x) for x in xs]\n",
    "plt.plot(xs, ys)"
   ]
  },
  {
   "cell_type": "markdown",
   "metadata": {},
   "source": [
    "## Problem 5\n",
    "\n",
    "Full Width at Half Maximum(FWHM). Distribution width is a very important quantity. It tells you how wide a the distribution is. One way to do that is to use a quantity called full-width half max.\n",
    "\n",
    "This is the width of the distribution at half maximum. \n",
    "\n",
    "For example for distribution shown below the maximum is at x=0.0 and y=1.0\n",
    "\n",
    "The maximum of this distribution is 1.0. So we are interested in the width of the distribution when the value of the distribution is 1.0/2=0.5\n",
    "\n",
    "The width of the distribution is shown in black line. In this case it's about 2.35"
   ]
  },
  {
   "cell_type": "code",
   "execution_count": 149,
   "metadata": {},
   "outputs": [
    {
     "data": {
      "text/plain": [
       "Text(0, 0.3, 'FWHM')"
      ]
     },
     "execution_count": 149,
     "metadata": {},
     "output_type": "execute_result"
    },
    {
     "data": {
      "image/png": "[encoded data removed]",
      "text/plain": [
       "<Figure size 432x288 with 1 Axes>"
      ]
     },
     "metadata": {
      "needs_background": "light"
     },
     "output_type": "display_data"
    }
   ],
   "source": [
    "import math\n",
    "def demo(x):\n",
    "    return math.exp(-x**2/2.0)\n",
    "x = np.linspace(-3,3)\n",
    "y = [demo(xx) for xx in x]\n",
    "plt.plot(x,y)\n",
    "plt.axhline(0.5, color='red')\n",
    "\n",
    "plt.axvline(2.355/2,color='red',linestyle='dashed')\n",
    "plt.axvline(-2.355/2,color='red',linestyle='dashed')\n",
    "\n",
    "plt.grid()\n",
    "plt.annotate(\n",
    "    '', xy=(-2.355/2, 0.4), xycoords='data',\n",
    "    xytext=(2.355/2, 0.4), textcoords='data',\n",
    "    arrowprops={'arrowstyle': '<->'})\n",
    "plt.text(0,0.3,'FWHM',horizontalalignment ='center')"
   ]
  },
  {
   "cell_type": "markdown",
   "metadata": {},
   "source": [
    "5.1)Find FWHM of the following function. Make sure the bound on error of the FWHM is less than $10^{-4}$."
   ]
  },
  {
   "cell_type": "code",
   "execution_count": 198,
   "metadata": {},
   "outputs": [
    {
     "name": "stdout",
     "output_type": "stream",
     "text": [
      "6.19140625\n"
     ]
    },
    {
     "data": {
      "text/plain": [
       "[<matplotlib.lines.Line2D at 0x7f839ffd8040>]"
      ]
     },
     "execution_count": 198,
     "metadata": {},
     "output_type": "execute_result"
    },
    {
     "data": {
      "image/png": "[encoded data removed]",
      "text/plain": [
       "<Figure size 432x288 with 1 Axes>"
      ]
     },
     "metadata": {
      "needs_background": "light"
     },
     "output_type": "display_data"
    }
   ],
   "source": [
    "import math\n",
    "def f(x, gamma=3.1):\n",
    "    mu = 2.345\n",
    "    return gamma/((x-mu)**2+gamma**2)\n",
    "\n",
    "#1)Find maximum point then /2\n",
    "x = np.linspace(-10,10,200)\n",
    "y = [f(xx) for xx in x]\n",
    "mX = y[np.argmax(y)]/2\n",
    "\n",
    "#2)find the width of this line\n",
    "def h(x):\n",
    "    return f(x) - mX\n",
    "Left = bisect(h,-10,0,1e-2).midpoint\n",
    "Right = bisect(h,0,10,1e-2).midpoint\n",
    "print(Right-Left)\n",
    "\n",
    "#Plotting part\n",
    "x = np.linspace(-10,10,200)\n",
    "y = [f(xx) for xx in x]\n",
    "plt.axhline(mX,color='red')\n",
    "plt.axvline(Left,color='red',linestyle='dashed')\n",
    "plt.axvline(Right,color='red',linestyle='dashed')\n",
    "plt.annotate(\n",
    "    '', xy=(Left, mX-0.015), xycoords='data',\n",
    "    xytext=(Right, mX-0.015), textcoords='data',\n",
    "    arrowprops={'arrowstyle': '<->'})\n",
    "plt.text(2.5,mX-0.035,'FWHM',horizontalalignment ='center')\n",
    "plt.plot(x,y)"
   ]
  },
  {
   "cell_type": "markdown",
   "metadata": {},
   "source": [
    "5.2) Plot FWHM(y-axis) as a function of $\\gamma$(gamma) from $\\gamma=0.5\\ldots 3$. Make sure you have at least 30 points."
   ]
  },
  {
   "cell_type": "code",
   "execution_count": 199,
   "metadata": {},
   "outputs": [
    {
     "name": "stdout",
     "output_type": "stream",
     "text": [
      "0.1081651140465921\n"
     ]
    },
    {
     "data": {
      "text/plain": [
       "[<matplotlib.lines.Line2D at 0x7f83a0202fd0>]"
      ]
     },
     "execution_count": 199,
     "metadata": {},
     "output_type": "execute_result"
    },
    {
     "data": {
      "image/png": "[encoded data removed]",
      "text/plain": [
       "<Figure size 432x288 with 1 Axes>"
      ]
     },
     "metadata": {
      "needs_background": "light"
     },
     "output_type": "display_data"
    }
   ],
   "source": [
    "print(f(1.0, gamma=0.2)) # you may find this useful\n",
    "x = np.linspace(-10,10,200)\n",
    "y = [f(xx) for xx in x]\n",
    "plt.plot(x,y)\n",
    "\n",
    "plt.plot(3.1,f(1.0,gamma=0.2),'bo')\n",
    "plt.plot(x,[f(1.0,gamma=xx) for xx in x])"
   ]
  },
  {
   "cell_type": "markdown",
   "metadata": {
    "collapsed": true
   },
   "source": [
    "5.3) (Optional) Prove the relation you found in 5.2)"
   ]
  },
  {
   "cell_type": "code",
   "execution_count": null,
   "metadata": {
    "collapsed": true
   },
   "outputs": [],
   "source": []
  }
 ],
 "metadata": {
  "kernelspec": {
   "display_name": "Python 3 (ipykernel)",
   "language": "python",
   "name": "python3"
  },
  "language_info": {
   "codemirror_mode": {
    "name": "ipython",
    "version": 3
   },
   "file_extension": ".py",
   "mimetype": "text/x-python",
   "name": "python",
   "nbconvert_exporter": "python",
   "pygments_lexer": "ipython3",
   "version": "3.9.7"
  },
  "toc": {
   "colors": {
    "hover_highlight": "#DAA520",
    "running_highlight": "#FF0000",
    "selected_highlight": "#FFD700"
   },
   "moveMenuLeft": true,
   "nav_menu": {
    "height": "30px",
    "width": "252px"
   },
   "navigate_menu": true,
   "number_sections": false,
   "sideBar": true,
   "threshold": 4,
   "toc_cell": false,
   "toc_section_display": "block",
   "toc_window_display": false
  }
 },
 "nbformat": 4,
 "nbformat_minor": 1
}
